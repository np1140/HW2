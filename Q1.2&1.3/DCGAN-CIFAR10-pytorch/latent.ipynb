{
 "cells": [
  {
   "cell_type": "code",
   "execution_count": 4,
   "metadata": {},
   "outputs": [],
   "source": [
    "import torch\n",
    "import torchvision.utils as vutils\n",
    "from torch import nn\n",
    "ngf = 64\n",
    "nc=3\n",
    "\n",
    "class Generator(nn.Module):\n",
    "    def __init__(self, ngpu):\n",
    "        super(Generator, self).__init__()\n",
    "        self.ngpu = ngpu\n",
    "        self.main = nn.Sequential(\n",
    "            # input is Z, going into a convolution\n",
    "            nn.ConvTranspose2d(nz, ngf * 8, 4, 1, 0, bias=False),\n",
    "            nn.BatchNorm2d(ngf * 8),\n",
    "            nn.ReLU(True),\n",
    "            # state size. (ngf*8) x 4 x 4\n",
    "            nn.ConvTranspose2d(ngf * 8, ngf * 4, 4, 2, 1, bias=False),\n",
    "            nn.BatchNorm2d(ngf * 4),\n",
    "            nn.ReLU(True),\n",
    "            # state size. (ngf*4) x 8 x 8\n",
    "            nn.ConvTranspose2d(ngf * 4, ngf * 2, 4, 2, 1, bias=False),\n",
    "            nn.BatchNorm2d(ngf * 2),\n",
    "            nn.ReLU(True),\n",
    "            # state size. (ngf*2) x 16 x 16\n",
    "            nn.ConvTranspose2d(ngf * 2, ngf, 4, 2, 1, bias=False),\n",
    "            nn.BatchNorm2d(ngf),\n",
    "            nn.ReLU(True),\n",
    "            # state size. (ngf) x 32 x 32\n",
    "            nn.ConvTranspose2d(ngf, nc, 4, 2, 1, bias=False),\n",
    "            nn.Tanh()\n",
    "            # state size. (nc) x 64 x 64\n",
    "        )\n",
    "\n",
    "    def forward(self, input):\n",
    "        if input.is_cuda and self.ngpu > 1:\n",
    "            output = nn.parallel.data_parallel(self.main, input, range(self.ngpu))\n",
    "        else:\n",
    "            output = self.main(input)\n",
    "            return output\n",
    "# number of gpu's available\n",
    "ngpu = 1\n",
    "# input noise dimension\n",
    "nz = 100\n",
    "device = 'cuda' if torch.cuda.is_available() else 'cpu'\n",
    "batch_size = 1\n",
    "netG = Generator(ngpu).to(device)\n",
    "#load weights to test the model\n",
    "netG.load_state_dict(torch.load('weights/netG_epoch_24.pth'))\n",
    "trial = 1\n",
    "noise1 = torch.randn(batch_size, nz, 1, 1, device=device)\n",
    "noise2 = torch.randn(batch_size, nz, 1, 1, device=device)\n",
    "fake_1 = netG(noise1)\n",
    "fake_2 = netG(noise2)\n",
    "vutils.save_image(fake_1.detach(),'output_new/test_3/fake_samples1%03d.png' % (trial),normalize=True)\n",
    "vutils.save_image(fake_2.detach(),'output_new/test_3/fake_samples2%03d.png' % (trial),normalize=True)\n",
    "for alpha in torch.linspace(0, 1, steps=10):  # 10 interpolation steps\n",
    "    interpolated_noise = (1 - alpha) * noise1 + alpha * noise2\n",
    "    \n",
    "    interpolated_fake_image = netG(interpolated_noise)\n",
    "    vutils.save_image(interpolated_fake_image.detach(),'output_new/test_3/interpolate_fake_sample_trial_%03d.png' % (trial),normalize=True)\n",
    "    trial = trial + 1\n"
   ]
  },
  {
   "cell_type": "code",
   "execution_count": 5,
   "metadata": {},
   "outputs": [
    {
     "data": {
      "text/plain": [
       "tensor([0.0000, 0.1111, 0.2222, 0.3333, 0.4444, 0.5556, 0.6667, 0.7778, 0.8889,\n",
       "        1.0000])"
      ]
     },
     "execution_count": 5,
     "metadata": {},
     "output_type": "execute_result"
    }
   ],
   "source": [
    "torch.linspace(0, 1, steps=10)"
   ]
  },
  {
   "cell_type": "code",
   "execution_count": null,
   "metadata": {},
   "outputs": [],
   "source": []
  }
 ],
 "metadata": {
  "kernelspec": {
   "display_name": "cvproj",
   "language": "python",
   "name": "python3"
  },
  "language_info": {
   "codemirror_mode": {
    "name": "ipython",
    "version": 3
   },
   "file_extension": ".py",
   "mimetype": "text/x-python",
   "name": "python",
   "nbconvert_exporter": "python",
   "pygments_lexer": "ipython3",
   "version": "3.9.18"
  }
 },
 "nbformat": 4,
 "nbformat_minor": 2
}
